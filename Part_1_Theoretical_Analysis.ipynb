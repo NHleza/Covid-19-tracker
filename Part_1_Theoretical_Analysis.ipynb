{
  "nbformat": 4,
  "nbformat_minor": 0,
  "metadata": {
    "colab": {
      "provenance": [],
      "authorship_tag": "ABX9TyObjx3fdSQx2GvpXaYaYUUF",
      "include_colab_link": true
    },
    "kernelspec": {
      "name": "python3",
      "display_name": "Python 3"
    },
    "language_info": {
      "name": "python"
    }
  },
  "cells": [
    {
      "cell_type": "markdown",
      "metadata": {
        "id": "view-in-github",
        "colab_type": "text"
      },
      "source": [
        "<a href=\"https://colab.research.google.com/github/NHleza/Covid-19-tracker/blob/main/Part_1_Theoretical_Analysis.ipynb\" target=\"_parent\"><img src=\"https://colab.research.google.com/assets/colab-badge.svg\" alt=\"Open In Colab\"/></a>"
      ]
    },
    {
      "cell_type": "code",
      "execution_count": null,
      "metadata": {
        "id": "jVqxsTRFaG8E"
      },
      "outputs": [],
      "source": [
        "Q1: How Edge AI Reduces Latency and Enhances Privacy\n",
        "\n",
        "Edge AI refers to the deployment of artificial intelligence models directly on hardware devices at the edge of networks, rather than relying on centralized cloud servers. This architecture offers two major advantages:\n",
        "\n",
        "Reduced Latency: Data is processed locally, so responses occur in real-time or near real-time, which is critical for applications like autonomous drones, robotics, and industrial automation. For example, an autonomous drone can process images onboard to detect and avoid obstacles instantly, rather than waiting for responses from a distant cloud server.\n",
        "\n",
        "Enhanced Privacy: Sensitive data never leaves the device, minimizing the risk of data breaches and unauthorized access. For instance, smartphones using Edge AI for facial recognition process biometric data locally, reducing exposure to external threats and maintaining user privacy."
      ]
    }
  ]
}